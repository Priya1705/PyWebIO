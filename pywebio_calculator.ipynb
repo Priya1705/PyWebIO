{
 "cells": [
  {
   "cell_type": "code",
   "execution_count": 2,
   "metadata": {
    "collapsed": true
   },
   "outputs": [
    {
     "name": "stdout",
     "output_type": "stream",
     "text": [
      "Collecting pywebio\n",
      "  Using cached pywebio-1.3.3.tar.gz (326 kB)\n",
      "Requirement already satisfied: tornado>=5.0 in c:\\users\\priyayadav\\appdata\\local\\programs\\python\\python39\\lib\\site-packages (from pywebio) (6.1)\n",
      "Collecting user-agents\n",
      "  Using cached user_agents-2.2.0-py3-none-any.whl (9.6 kB)\n",
      "Collecting ua-parser>=0.10.0\n",
      "  Using cached ua_parser-0.10.0-py2.py3-none-any.whl (35 kB)\n",
      "Building wheels for collected packages: pywebio\n",
      "  Building wheel for pywebio (setup.py): started\n",
      "  Building wheel for pywebio (setup.py): finished with status 'done'\n",
      "  Created wheel for pywebio: filename=pywebio-1.3.3-py3-none-any.whl size=335375 sha256=07ffa0a1f0a0a1f8e741d999fe935305cea234052b69bbe5cee0cdbd7defb0c8\n",
      "  Stored in directory: c:\\users\\priyayadav\\appdata\\local\\pip\\cache\\wheels\\a5\\3f\\95\\eb7f7d4597b476b27a3f6ba41d526a6925240329849be758b0\n",
      "Successfully built pywebio\n",
      "Installing collected packages: ua-parser, user-agents, pywebio\n",
      "Successfully installed pywebio-1.3.3 ua-parser-0.10.0 user-agents-2.2.0\n",
      "Note: you may need to restart the kernel to use updated packages.\n"
     ]
    },
    {
     "name": "stderr",
     "output_type": "stream",
     "text": [
      "WARNING: You are using pip version 21.1.2; however, version 21.2.4 is available.\n",
      "You should consider upgrading via the 'c:\\users\\priyayadav\\appdata\\local\\programs\\python\\python39\\python.exe -m pip install --upgrade pip' command.\n"
     ]
    }
   ],
   "source": [
    "pip install pywebio"
   ]
  },
  {
   "cell_type": "code",
   "execution_count": 3,
   "metadata": {},
   "outputs": [],
   "source": [
    "from pywebio.input import *\n",
    "from pywebio.output import put_text"
   ]
  },
  {
   "cell_type": "code",
   "execution_count": 4,
   "metadata": {},
   "outputs": [],
   "source": [
    "def sum(a,b):\n",
    "    c=a+b\n",
    "    return c\n",
    "def substract(a,b):\n",
    "    c=a-b\n",
    "    return c\n",
    "def multiply(a,b):\n",
    "    c=a*b\n",
    "    return c\n",
    "def divide(a,b):\n",
    "    c=a/b\n",
    "    return c\n"
   ]
  },
  {
   "cell_type": "code",
   "execution_count": 5,
   "metadata": {},
   "outputs": [],
   "source": [
    "def summ():\n",
    "    a=input(\"enter a number\", type=NUMBER)\n",
    "    b=input(\"enter a number\",type=NUMBER)\n",
    "    option = radio(\"Choose one\", options=['add', 'substract', 'multiply', 'divide'])\n",
    "    \n",
    "    \n",
    "    if option=='add':\n",
    "        put_text(f\"sum is {sum(a,b)}\")\n",
    "    elif option=='substract':\n",
    "        put_text(f\"substract is {substract(a,b)}\")\n",
    "    elif option=='multiply':\n",
    "        put_text(f\"multiply is {multiply(a,b)}\")\n",
    "    elif option=='divide':\n",
    "        put_text(f\"divide is {divide(a,b)}\")\n",
    "\n",
    "if __name__ == '__main__':\n",
    "    summ()"
   ]
  },
  {
   "cell_type": "code",
   "execution_count": null,
   "metadata": {},
   "outputs": [],
   "source": []
  }
 ],
 "metadata": {
  "kernelspec": {
   "display_name": "Python 3",
   "language": "python",
   "name": "python3"
  }
 },
 "nbformat": 4,
 "nbformat_minor": 5
}
